{
  "cells": [
    {
      "cell_type": "markdown",
      "metadata": {
        "id": "JfrJ76NdFjg7"
      },
      "source": [
        "# A short presentation showing speedup when switching from pandas to FireDucks\n",
        "\n",
        "🔥 🐦[**FireDucks**](https://fireducks-dev.github.io/) is a high-performance compiler-accelerated DataFrame library with highly compatible pandas APIs developed to speedup a pandas application without any manual source code changes. It comes with a multi-threaded C++ kernel and automatic query optimization features (powered by an in-built compiler) with lazy-execution model.\n",
        "\n",
        "In this test drive, we will be using [ Parking Violations Issued - Fiscal Year 2022](https://data.cityofnewyork.us/City-Government/Parking-Violations-Issued-Fiscal-Year-2022/7mxj-7a6y/about_data) dataset from NYC Open Data.\n",
        "\n",
        "REF: https://colab.research.google.com/drive/12tCzP94zFG2BRduACucn5Q_OcX1TUKY3\n",
        "\n",
        "\n"
      ]
    },
    {
      "cell_type": "code",
      "execution_count": null,
      "metadata": {
        "colab": {
          "base_uri": "https://localhost:8080/"
        },
        "id": "BKdGiiZ2EN-o",
        "outputId": "b95550d9-bf91-4c58-a846-4978a2e16a55"
      },
      "outputs": [
        {
          "name": "stdout",
          "output_type": "stream",
          "text": [
            "Requirement already satisfied: fireducks in /usr/local/lib/python3.10/dist-packages (0.12.4)\n",
            "Requirement already satisfied: firefw==0.12.4 in /usr/local/lib/python3.10/dist-packages (from fireducks) (0.12.4)\n",
            "Requirement already satisfied: numba in /usr/local/lib/python3.10/dist-packages (from fireducks) (0.58.1)\n",
            "Requirement already satisfied: pandas<2.3.0,>=1.5.3 in /usr/local/lib/python3.10/dist-packages (from fireducks) (2.0.3)\n",
            "Requirement already satisfied: pyarrow<16.2,>=16.1 in /usr/local/lib/python3.10/dist-packages (from fireducks) (16.1.0)\n",
            "Requirement already satisfied: python-dateutil>=2.8.2 in /usr/local/lib/python3.10/dist-packages (from pandas<2.3.0,>=1.5.3->fireducks) (2.8.2)\n",
            "Requirement already satisfied: pytz>=2020.1 in /usr/local/lib/python3.10/dist-packages (from pandas<2.3.0,>=1.5.3->fireducks) (2023.4)\n",
            "Requirement already satisfied: tzdata>=2022.1 in /usr/local/lib/python3.10/dist-packages (from pandas<2.3.0,>=1.5.3->fireducks) (2024.1)\n",
            "Requirement already satisfied: numpy>=1.21.0 in /usr/local/lib/python3.10/dist-packages (from pandas<2.3.0,>=1.5.3->fireducks) (1.25.2)\n",
            "Requirement already satisfied: llvmlite<0.42,>=0.41.0dev0 in /usr/local/lib/python3.10/dist-packages (from numba->fireducks) (0.41.1)\n",
            "Requirement already satisfied: six>=1.5 in /usr/local/lib/python3.10/dist-packages (from python-dateutil>=2.8.2->pandas<2.3.0,>=1.5.3->fireducks) (1.16.0)\n"
          ]
        }
      ],
      "source": [
        "!pip install fireducks"
      ]
    },
    {
      "cell_type": "code",
      "execution_count": null,
      "metadata": {
        "id": "0m5OaTQQD4BC"
      },
      "outputs": [],
      "source": [
        "#import os\n",
        "#os.environ[\"FIREDUCKS_FLAGS\"] = \"--benchmark-mode\""
      ]
    },
    {
      "cell_type": "code",
      "execution_count": null,
      "metadata": {
        "id": "O2KIjJetEKrp"
      },
      "outputs": [],
      "source": [
        "%load_ext fireducks.pandas\n",
        "import time\n",
        "import pandas as pd"
      ]
    },
    {
      "cell_type": "code",
      "execution_count": null,
      "metadata": {
        "colab": {
          "base_uri": "https://localhost:8080/"
        },
        "id": "T4mjOF3mFC7b",
        "outputId": "6f2903d4-26fa-45c3-ac1c-10ab877b3c77"
      },
      "outputs": [
        {
          "name": "stdout",
          "output_type": "stream",
          "text": [
            "evaluation with fireducks.pandas version: 0.12.4\n"
          ]
        }
      ],
      "source": [
        "print(f\"evaluation with {pd.__name__} version: {pd.__version__}\")"
      ]
    },
    {
      "cell_type": "code",
      "execution_count": null,
      "metadata": {
        "id": "gNIYWM0xEbMR"
      },
      "outputs": [],
      "source": [
        "## Let's load the parquet dataset"
      ]
    },
    {
      "cell_type": "code",
      "execution_count": null,
      "metadata": {
        "id": "6nzYlYVVENGK"
      },
      "outputs": [],
      "source": [
        "# Data can be downloaded from here:\n",
        "#!wget https://data.rapids.ai/datasets/nyc_parking/nyc_parking_violations_2022.parquet"
      ]
    },
    {
      "cell_type": "code",
      "execution_count": null,
      "metadata": {
        "id": "M05AzdJFHen7"
      },
      "outputs": [],
      "source": [
        "# this method enforces the execution of the compiled IRs for the input frame.\n",
        "# use it for FireDucks to measure the actual computation time\n",
        "def evaluate(df):\n",
        "  if hasattr(df, \"_evaluate\"):\n",
        "    df._evaluate()"
      ]
    },
    {
      "cell_type": "code",
      "execution_count": null,
      "metadata": {
        "colab": {
          "base_uri": "https://localhost:8080/",
          "height": 424
        },
        "id": "Y_d5fwWPES1g",
        "outputId": "eb9da258-dd30-4ea0-c6fa-03918d374648"
      },
      "outputs": [
        {
          "data": {
            "text/html": [
              "<div>\n",
              "<style scoped>\n",
              "    .dataframe tbody tr th:only-of-type {\n",
              "        vertical-align: middle;\n",
              "    }\n",
              "\n",
              "    .dataframe tbody tr th {\n",
              "        vertical-align: top;\n",
              "    }\n",
              "\n",
              "    .dataframe thead th {\n",
              "        text-align: right;\n",
              "    }\n",
              "</style>\n",
              "<table border=\"1\" class=\"dataframe\">\n",
              "  <thead>\n",
              "    <tr style=\"text-align: right;\">\n",
              "      <th></th>\n",
              "      <th>Registration State</th>\n",
              "      <th>Violation Description</th>\n",
              "      <th>Vehicle Body Type</th>\n",
              "      <th>Issue Date</th>\n",
              "      <th>Summons Number</th>\n",
              "    </tr>\n",
              "  </thead>\n",
              "  <tbody>\n",
              "    <tr>\n",
              "      <th>0</th>\n",
              "      <td>NY</td>\n",
              "      <td>&lt;NA&gt;</td>\n",
              "      <td>VAN</td>\n",
              "      <td>06/25/2021</td>\n",
              "      <td>1457617912</td>\n",
              "    </tr>\n",
              "    <tr>\n",
              "      <th>1</th>\n",
              "      <td>NY</td>\n",
              "      <td>&lt;NA&gt;</td>\n",
              "      <td>SUBN</td>\n",
              "      <td>06/25/2021</td>\n",
              "      <td>1457617924</td>\n",
              "    </tr>\n",
              "    <tr>\n",
              "      <th>2</th>\n",
              "      <td>TX</td>\n",
              "      <td>&lt;NA&gt;</td>\n",
              "      <td>SDN</td>\n",
              "      <td>06/17/2021</td>\n",
              "      <td>1457622427</td>\n",
              "    </tr>\n",
              "    <tr>\n",
              "      <th>3</th>\n",
              "      <td>MO</td>\n",
              "      <td>&lt;NA&gt;</td>\n",
              "      <td>SDN</td>\n",
              "      <td>06/16/2021</td>\n",
              "      <td>1457638629</td>\n",
              "    </tr>\n",
              "    <tr>\n",
              "      <th>4</th>\n",
              "      <td>NY</td>\n",
              "      <td>&lt;NA&gt;</td>\n",
              "      <td>TAXI</td>\n",
              "      <td>07/04/2021</td>\n",
              "      <td>1457639580</td>\n",
              "    </tr>\n",
              "    <tr>\n",
              "      <th>...</th>\n",
              "      <td>...</td>\n",
              "      <td>...</td>\n",
              "      <td>...</td>\n",
              "      <td>...</td>\n",
              "      <td>...</td>\n",
              "    </tr>\n",
              "    <tr>\n",
              "      <th>15435602</th>\n",
              "      <td>99</td>\n",
              "      <td>21-No Parking (street clean)</td>\n",
              "      <td>SUBN</td>\n",
              "      <td>06/07/2022</td>\n",
              "      <td>8995222761</td>\n",
              "    </tr>\n",
              "    <tr>\n",
              "      <th>15435603</th>\n",
              "      <td>TN</td>\n",
              "      <td>21-No Parking (street clean)</td>\n",
              "      <td>PICK</td>\n",
              "      <td>06/07/2022</td>\n",
              "      <td>8995222773</td>\n",
              "    </tr>\n",
              "    <tr>\n",
              "      <th>15435604</th>\n",
              "      <td>NY</td>\n",
              "      <td>21-No Parking (street clean)</td>\n",
              "      <td>2DSD</td>\n",
              "      <td>06/07/2022</td>\n",
              "      <td>8995222785</td>\n",
              "    </tr>\n",
              "    <tr>\n",
              "      <th>15435605</th>\n",
              "      <td>VA</td>\n",
              "      <td>21-No Parking (street clean)</td>\n",
              "      <td>SUBN</td>\n",
              "      <td>06/07/2022</td>\n",
              "      <td>8995222827</td>\n",
              "    </tr>\n",
              "    <tr>\n",
              "      <th>15435606</th>\n",
              "      <td>MD</td>\n",
              "      <td>14-No Standing</td>\n",
              "      <td>4DSD</td>\n",
              "      <td>06/07/2022</td>\n",
              "      <td>8995222839</td>\n",
              "    </tr>\n",
              "  </tbody>\n",
              "</table>\n",
              "<p>15435607 rows x 5 columns</p>\n",
              "</div>"
            ]
          },
          "metadata": {},
          "output_type": "display_data"
        }
      ],
      "source": [
        "t0 = time.time()\n",
        "df = pd.read_parquet(\n",
        "    \"nyc_parking_violations_2022.parquet\",\n",
        "    columns=[\"Registration State\", \"Violation Description\",\n",
        "             \"Vehicle Body Type\", \"Issue Date\", \"Summons Number\"]\n",
        ")\n",
        "evaluate(df)\n",
        "load_t = time.time() - t0\n",
        "df"
      ]
    },
    {
      "cell_type": "markdown",
      "metadata": {
        "id": "x7wZO0agEZAB"
      },
      "source": [
        "## Q1: Which parking violation is most commonly committed by vehicles from various U.S states?"
      ]
    },
    {
      "cell_type": "code",
      "execution_count": null,
      "metadata": {
        "colab": {
          "base_uri": "https://localhost:8080/",
          "height": 424
        },
        "id": "UQJCwb9jEeCB",
        "outputId": "8c11aac1-238a-4fa8-c741-a8ab63d3dc9c"
      },
      "outputs": [
        {
          "data": {
            "text/html": [
              "<div>\n",
              "<style scoped>\n",
              "    .dataframe tbody tr th:only-of-type {\n",
              "        vertical-align: middle;\n",
              "    }\n",
              "\n",
              "    .dataframe tbody tr th {\n",
              "        vertical-align: top;\n",
              "    }\n",
              "\n",
              "    .dataframe thead th {\n",
              "        text-align: right;\n",
              "    }\n",
              "</style>\n",
              "<table border=\"1\" class=\"dataframe\">\n",
              "  <thead>\n",
              "    <tr style=\"text-align: right;\">\n",
              "      <th></th>\n",
              "      <th>Registration State</th>\n",
              "      <th>Violation Description</th>\n",
              "      <th>count</th>\n",
              "    </tr>\n",
              "  </thead>\n",
              "  <tbody>\n",
              "    <tr>\n",
              "      <th>0</th>\n",
              "      <td>99</td>\n",
              "      <td>&lt;NA&gt;</td>\n",
              "      <td>17550</td>\n",
              "    </tr>\n",
              "    <tr>\n",
              "      <th>1</th>\n",
              "      <td>AB</td>\n",
              "      <td>14-No Standing</td>\n",
              "      <td>22</td>\n",
              "    </tr>\n",
              "    <tr>\n",
              "      <th>2</th>\n",
              "      <td>AK</td>\n",
              "      <td>PHTO SCHOOL ZN SPEED VIOLATION</td>\n",
              "      <td>125</td>\n",
              "    </tr>\n",
              "    <tr>\n",
              "      <th>3</th>\n",
              "      <td>AL</td>\n",
              "      <td>PHTO SCHOOL ZN SPEED VIOLATION</td>\n",
              "      <td>3668</td>\n",
              "    </tr>\n",
              "    <tr>\n",
              "      <th>4</th>\n",
              "      <td>AR</td>\n",
              "      <td>PHTO SCHOOL ZN SPEED VIOLATION</td>\n",
              "      <td>537</td>\n",
              "    </tr>\n",
              "    <tr>\n",
              "      <th>...</th>\n",
              "      <td>...</td>\n",
              "      <td>...</td>\n",
              "      <td>...</td>\n",
              "    </tr>\n",
              "    <tr>\n",
              "      <th>62</th>\n",
              "      <td>VT</td>\n",
              "      <td>PHTO SCHOOL ZN SPEED VIOLATION</td>\n",
              "      <td>3024</td>\n",
              "    </tr>\n",
              "    <tr>\n",
              "      <th>63</th>\n",
              "      <td>WA</td>\n",
              "      <td>21-No Parking (street clean)</td>\n",
              "      <td>3732</td>\n",
              "    </tr>\n",
              "    <tr>\n",
              "      <th>64</th>\n",
              "      <td>WI</td>\n",
              "      <td>14-No Standing</td>\n",
              "      <td>1639</td>\n",
              "    </tr>\n",
              "    <tr>\n",
              "      <th>65</th>\n",
              "      <td>WV</td>\n",
              "      <td>PHTO SCHOOL ZN SPEED VIOLATION</td>\n",
              "      <td>1185</td>\n",
              "    </tr>\n",
              "    <tr>\n",
              "      <th>66</th>\n",
              "      <td>WY</td>\n",
              "      <td>21-No Parking (street clean)</td>\n",
              "      <td>138</td>\n",
              "    </tr>\n",
              "  </tbody>\n",
              "</table>\n",
              "<p>67 rows x 3 columns</p>\n",
              "</div>"
            ]
          },
          "metadata": {},
          "output_type": "display_data"
        }
      ],
      "source": [
        "t1 = time.time()\n",
        "r1 = (df[[\"Registration State\", \"Violation Description\"]]\n",
        " .value_counts()\n",
        " .groupby(\"Registration State\")\n",
        " .head(1)\n",
        " .sort_index()\n",
        " .reset_index()\n",
        ")\n",
        "evaluate(r1)\n",
        "q1_t = time.time() - t1\n",
        "r1"
      ]
    },
    {
      "cell_type": "markdown",
      "metadata": {
        "id": "iHp9ZtyjEgmB"
      },
      "source": [
        "## Q2: Which vehicle body types are most frequently involved in parking violations?"
      ]
    },
    {
      "cell_type": "code",
      "execution_count": null,
      "metadata": {
        "colab": {
          "base_uri": "https://localhost:8080/",
          "height": 455
        },
        "id": "8ZzaizN0Ejh7",
        "outputId": "1e237e6e-d3cd-45e0-a7e1-12f4eb8b856e"
      },
      "outputs": [
        {
          "data": {
            "text/html": [
              "<div>\n",
              "<style scoped>\n",
              "    .dataframe tbody tr th:only-of-type {\n",
              "        vertical-align: middle;\n",
              "    }\n",
              "\n",
              "    .dataframe tbody tr th {\n",
              "        vertical-align: top;\n",
              "    }\n",
              "\n",
              "    .dataframe thead th {\n",
              "        text-align: right;\n",
              "    }\n",
              "</style>\n",
              "<table border=\"1\" class=\"dataframe\">\n",
              "  <thead>\n",
              "    <tr style=\"text-align: right;\">\n",
              "      <th></th>\n",
              "      <th>Count</th>\n",
              "    </tr>\n",
              "    <tr>\n",
              "      <th>Vehicle Body Type</th>\n",
              "      <th></th>\n",
              "    </tr>\n",
              "  </thead>\n",
              "  <tbody>\n",
              "    <tr>\n",
              "      <th>SUBN</th>\n",
              "      <td>6449007</td>\n",
              "    </tr>\n",
              "    <tr>\n",
              "      <th>4DSD</th>\n",
              "      <td>4402991</td>\n",
              "    </tr>\n",
              "    <tr>\n",
              "      <th>VAN</th>\n",
              "      <td>1317899</td>\n",
              "    </tr>\n",
              "    <tr>\n",
              "      <th>DELV</th>\n",
              "      <td>436430</td>\n",
              "    </tr>\n",
              "    <tr>\n",
              "      <th>PICK</th>\n",
              "      <td>429798</td>\n",
              "    </tr>\n",
              "    <tr>\n",
              "      <th>...</th>\n",
              "      <td>...</td>\n",
              "    </tr>\n",
              "    <tr>\n",
              "      <th>YANT</th>\n",
              "      <td>1</td>\n",
              "    </tr>\n",
              "    <tr>\n",
              "      <th>YBSD</th>\n",
              "      <td>1</td>\n",
              "    </tr>\n",
              "    <tr>\n",
              "      <th>YEL</th>\n",
              "      <td>1</td>\n",
              "    </tr>\n",
              "    <tr>\n",
              "      <th>YL</th>\n",
              "      <td>1</td>\n",
              "    </tr>\n",
              "    <tr>\n",
              "      <th>Z1UT</th>\n",
              "      <td>1</td>\n",
              "    </tr>\n",
              "  </tbody>\n",
              "</table>\n",
              "<p>967 rows x 1 columns</p>\n",
              "</div>"
            ]
          },
          "metadata": {},
          "output_type": "display_data"
        }
      ],
      "source": [
        "t2 = time.time()\n",
        "r2 = (df\n",
        " .groupby([\"Vehicle Body Type\"])\n",
        " .agg({\"Summons Number\": \"count\"})\n",
        " .rename(columns={\"Summons Number\": \"Count\"})\n",
        " .sort_values([\"Count\"], ascending=False)\n",
        ")\n",
        "evaluate(r2)\n",
        "q2_t = time.time() - t2\n",
        "r2"
      ]
    },
    {
      "cell_type": "markdown",
      "metadata": {
        "id": "8dSDKYWSEmMa"
      },
      "source": [
        "## Q3. How do parking violations vary across days of the week?"
      ]
    },
    {
      "cell_type": "code",
      "execution_count": null,
      "metadata": {
        "colab": {
          "base_uri": "https://localhost:8080/"
        },
        "id": "BKw15fyKEqCy",
        "outputId": "d031dee6-3fdc-4f8a-faca-b9d9f9a7c5ea"
      },
      "outputs": [
        {
          "data": {
            "text/plain": [
              "issue_weekday\n",
              "Sunday        462992\n",
              "Saturday     1108385\n",
              "Monday       2488563\n",
              "Wednesday    2760088\n",
              "Tuesday      2809949\n",
              "Friday       2891679\n",
              "Thursday     2913951\n",
              "Name: Summons Number, dtype: int64"
            ]
          },
          "execution_count": 11,
          "metadata": {},
          "output_type": "execute_result"
        }
      ],
      "source": [
        "t3 = time.time()\n",
        "weekday_names = {\n",
        "    0: \"Monday\",\n",
        "    1: \"Tuesday\",\n",
        "    2: \"Wednesday\",\n",
        "    3: \"Thursday\",\n",
        "    4: \"Friday\",\n",
        "    5: \"Saturday\",\n",
        "    6: \"Sunday\",\n",
        "}\n",
        "\n",
        "df[\"Issue Date\"] = df[\"Issue Date\"].astype(\"datetime64[ms]\")\n",
        "df[\"issue_weekday\"] = df[\"Issue Date\"].dt.weekday.map(weekday_names)\n",
        "r3 = df.groupby([\"issue_weekday\"])[\"Summons Number\"].count().sort_values()\n",
        "evaluate(r3)\n",
        "q3_t = time.time() - t3\n",
        "r3"
      ]
    },
    {
      "cell_type": "markdown",
      "metadata": {
        "id": "VGERKK6BEvui"
      },
      "source": [
        "## Evaluation"
      ]
    },
    {
      "cell_type": "code",
      "execution_count": null,
      "metadata": {
        "colab": {
          "base_uri": "https://localhost:8080/"
        },
        "id": "IcttsqavE1Y6",
        "outputId": "ca75e713-52b0-472e-f450-20c0b0548a3f"
      },
      "outputs": [
        {
          "name": "stdout",
          "output_type": "stream",
          "text": [
            "total time taken: 7.584502696990967 sec\n"
          ]
        },
        {
          "data": {
            "text/plain": [
              "data_loading    3.324290\n",
              "query_1         0.592974\n",
              "query_2         0.409812\n",
              "query_3         3.257427\n",
              "dtype: float64"
            ]
          },
          "execution_count": 12,
          "metadata": {},
          "output_type": "execute_result"
        }
      ],
      "source": [
        "s = pd.Series([load_t, q1_t, q2_t, q3_t], index = [\"data_loading\", \"query_1\", \"query_2\", \"query_3\"])\n",
        "print(f\"total time taken: {s.sum()} sec\")\n",
        "s"
      ]
    },
    {
      "cell_type": "markdown",
      "metadata": {
        "id": "StvXI7-0JcQM"
      },
      "source": [
        "📢 Apart from the explicit evaluation using _evaluate() method, you may also like to activate the benchmark-mode by enabling the commented code in **Cell#2** and restart and re-execute this notebook. This time the lazy-execution mode will be disabled, so each API will be executed right after it is called (as in pandas).\n",
        "\n",
        "For the examples in this notebook there were not enough room for compiler optimization, hence you may not notice significant difference in execution time even when lazy-execution mode is disabled.\n",
        "\n",
        "Here is my finding from the exeution when I tried:\n",
        "\n",
        "*   Native pandas: **15 sec**\n",
        "*   FireDucks.pandas without benchmark-mode (multithreaded + compiler optimized): **7.5 sec**\n",
        "\n"
      ]
    },
    {
      "cell_type": "markdown",
      "metadata": {
        "id": "_9KaktrLG0dV"
      },
      "source": [
        "# Conclusion\n",
        "\n",
        "🚀 Execution time could be reduced **from 15 sec to 7.5 sec (~2x speedup)** even for an execution environment with low spec (default colab environment seems to support only 2 cpu cores). So without incurring any migration cost (pandas to FireDucks code translation is absolutely not required) or an expensive hardware cost (no need for high spec system), you can enjoy faster analysis with FireDucks!!\n",
        "\n",
        "🚀🚀 You may like to check other [benchmarks](https://fireducks-dev.github.io/docs/benchmarks/)"
      ]
    }
  ],
  "metadata": {
    "colab": {
      "provenance": []
    },
    "kernelspec": {
      "display_name": "Python 3",
      "name": "python3"
    },
    "language_info": {
      "name": "python"
    }
  },
  "nbformat": 4,
  "nbformat_minor": 0
}
